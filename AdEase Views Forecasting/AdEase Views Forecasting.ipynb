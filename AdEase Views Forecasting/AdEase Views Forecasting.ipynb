{
 "cells": [
  {
   "cell_type": "code",
   "execution_count": 1,
   "id": "3bfe9bae-01e8-401f-af05-c67fbb47b38b",
   "metadata": {},
   "outputs": [
    {
     "name": "stdout",
     "output_type": "stream",
     "text": [
      "/Users/mayank.jain4/Time_Series_Analysis/AdEase Views Forecasting\n"
     ]
    }
   ],
   "source": [
    "!pwd"
   ]
  },
  {
   "cell_type": "code",
   "execution_count": null,
   "id": "8ba67c20-270e-4064-b942-f39d5e1ba9f8",
   "metadata": {},
   "outputs": [
    {
     "name": "stdout",
     "output_type": "stream",
     "text": [
      "hint: Waiting for your editor to close the file... \u001b7\u001b[?47h\u001b[>4;2m\u001b[?1h\u001b=\u001b[?2004h\u001b[?1004h\u001b[1;24r\u001b[?12h\u001b[?12l\u001b[22;2t\u001b[22;1t\u001b[29m\u001b[m\u001b[H\u001b[2J\u001b[?25l\u001b[24;1H\"~/Time_Series_Analysis/.git/COMMIT_EDITMSG\" 11L, 354B\u001b[2;1H▽\u001b[6n\u001b[2;1H  \u001b[3;1H\u001bPzz\u001b\\\u001b[0%m\u001b[6n\u001b[3;1H           \u001b[1;1H\u001b[>c\u001b]10;?\u0007\u001b]11;?\u0007\u001b[2;1H# Please enter the commit message for your changes. Lines starting\u001b[2;67H\u001b[K\u001b[3;1H# with '#' will be ignored, and an empty message aborts the commit.\u001b[3;68H\u001b[K\u001b[4;1H#\n",
      "# On branch main\n",
      "# Your branch is up to date with 'origin/main'.\n",
      "#\n",
      "# Changes to be committed:\n",
      "#\u001b[7Cnew file:   .ipynb_checkpoints/AdEase Views Forecasting-checkpoint.ipynb\u001b[10;1H#\u001b[7Cnew file:   AdEase Views Forecasting.ipynb\n",
      "#\n",
      "\u001b[1m\u001b[34m~                                                                               \u001b[13;1H~                                                                               \u001b[14;1H~                                                                               \u001b[15;1H~                                                                               \u001b[16;1H~                                                                               \u001b[17;1H~                                                                               \u001b[18;1H~                                                                               \u001b[19;1H~                                                                               \u001b[20;1H~                                                                               \u001b[21;1H~                                                                               \u001b[22;1H~                                                                               \u001b[23;1H~                                                                               \u001b[1;1H\u001b[?25h\u001b[?4m"
     ]
    }
   ],
   "source": [
    "!git add .\n",
    "!git commit\n",
    "!git push origin main"
   ]
  }
 ],
 "metadata": {
  "kernelspec": {
   "display_name": "Python 3 (ipykernel)",
   "language": "python",
   "name": "python3"
  },
  "language_info": {
   "codemirror_mode": {
    "name": "ipython",
    "version": 3
   },
   "file_extension": ".py",
   "mimetype": "text/x-python",
   "name": "python",
   "nbconvert_exporter": "python",
   "pygments_lexer": "ipython3",
   "version": "3.10.10"
  }
 },
 "nbformat": 4,
 "nbformat_minor": 5
}
